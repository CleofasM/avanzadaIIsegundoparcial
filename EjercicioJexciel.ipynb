{
 "cells": [
  {
   "cell_type": "code",
   "execution_count": 16,
   "id": "cac56a99",
   "metadata": {},
   "outputs": [
    {
     "name": "stdout",
     "output_type": "stream",
     "text": [
      "Calificaciones: [65 70 80 90 85 75 60 95 88 72]\n"
     ]
    }
   ],
   "source": [
    "import numpy as np\n",
    "\n",
    "calificaciones = np.array([65, 70, 80, 90, 85, 75, 60, 95, 88, 72])\n",
    "print(\"Calificaciones:\", calificaciones)"
   ]
  },
  {
   "cell_type": "code",
   "execution_count": 17,
   "id": "c2d89f8f",
   "metadata": {},
   "outputs": [
    {
     "name": "stdout",
     "output_type": "stream",
     "text": [
      "Promedio: 78.0\n"
     ]
    }
   ],
   "source": [
    "promedio = np.mean(calificaciones)\n",
    "print(\"Promedio:\", promedio)"
   ]
  },
  {
   "cell_type": "code",
   "execution_count": 18,
   "id": "78088341",
   "metadata": {},
   "outputs": [
    {
     "name": "stdout",
     "output_type": "stream",
     "text": [
      "Promedio: 78.0\n",
      "Nota más alta: 95\n"
     ]
    }
   ],
   "source": [
    "nota_max = np.max(calificaciones)\n",
    "print(\"Promedio:\", promedio)\n",
    "print(\"Nota más alta:\", nota_max)"
   ]
  },
  {
   "cell_type": "code",
   "execution_count": 19,
   "id": "4ccac189",
   "metadata": {},
   "outputs": [
    {
     "name": "stdout",
     "output_type": "stream",
     "text": [
      "Nota más baja: 60\n"
     ]
    }
   ],
   "source": [
    "nota_min = np.min(calificaciones)\n",
    "print(\"Nota más baja:\", nota_min)"
   ]
  },
  {
   "cell_type": "code",
   "execution_count": 20,
   "id": "f2f98373",
   "metadata": {},
   "outputs": [
    {
     "name": "stdout",
     "output_type": "stream",
     "text": [
      "Calificaciones con curva: [ 70  75  85  95  90  80  65 100  93  77]\n"
     ]
    }
   ],
   "source": [
    "calificaciones_curva = np.clip(calificaciones + 5, 0, 100)\n",
    "print(\"Calificaciones con curva:\", calificaciones_curva)"
   ]
  },
  {
   "cell_type": "code",
   "execution_count": null,
   "id": "3b3f3ee8",
   "metadata": {},
   "outputs": [],
   "source": []
  }
 ],
 "metadata": {
  "kernelspec": {
   "display_name": "base",
   "language": "python",
   "name": "python3"
  },
  "language_info": {
   "codemirror_mode": {
    "name": "ipython",
    "version": 3
   },
   "file_extension": ".py",
   "mimetype": "text/x-python",
   "name": "python",
   "nbconvert_exporter": "python",
   "pygments_lexer": "ipython3",
   "version": "3.12.7"
  }
 },
 "nbformat": 4,
 "nbformat_minor": 5
}
