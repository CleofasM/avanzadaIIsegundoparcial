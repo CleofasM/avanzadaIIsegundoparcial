{
 "cells": [
  {
   "cell_type": "code",
   "execution_count": 1,
   "id": "ecf69d97",
   "metadata": {},
   "outputs": [],
   "source": [
    "import numpy as np"
   ]
  },
  {
   "cell_type": "code",
   "execution_count": 9,
   "id": "bfa36f0d",
   "metadata": {},
   "outputs": [],
   "source": [
    "temperaturas = np.array([30, 32, 29, 28, 31, 33, 27])\n"
   ]
  },
  {
   "cell_type": "code",
   "execution_count": 10,
   "id": "0cc873c5",
   "metadata": {},
   "outputs": [],
   "source": [
    "promedio = temperaturas.mean"
   ]
  },
  {
   "cell_type": "code",
   "execution_count": 11,
   "id": "e12edba3",
   "metadata": {},
   "outputs": [],
   "source": [
    "dia_mas_caluroso = temperaturas.max"
   ]
  },
  {
   "cell_type": "code",
   "execution_count": 12,
   "id": "d465e871",
   "metadata": {},
   "outputs": [],
   "source": [
    "dia_mas_frio = temperaturas.min"
   ]
  },
  {
   "cell_type": "code",
   "execution_count": 13,
   "id": "2e845499",
   "metadata": {},
   "outputs": [],
   "source": [
    "dias_semana = [\"Lunes\", \"Martes\", \"Miércoles\", \"Jueves\", \"Viernes\", \"Sábado\", \"Domingo\"]\n"
   ]
  },
  {
   "cell_type": "code",
   "execution_count": 18,
   "id": "13c11375",
   "metadata": {},
   "outputs": [
    {
     "name": "stdout",
     "output_type": "stream",
     "text": [
      "Temperaturas de la semana:  [30 32 29 28 31 33 27]\n",
      "Promedio Semanal <built-in method mean of numpy.ndarray object at 0x000001CFB0899EF0>\n"
     ]
    },
    {
     "ename": "TypeError",
     "evalue": "list indices must be integers or slices, not builtin_function_or_method",
     "output_type": "error",
     "traceback": [
      "\u001b[1;31m---------------------------------------------------------------------------\u001b[0m",
      "\u001b[1;31mTypeError\u001b[0m                                 Traceback (most recent call last)",
      "Cell \u001b[1;32mIn[18], line 3\u001b[0m\n\u001b[0;32m      1\u001b[0m \u001b[38;5;28mprint\u001b[39m(\u001b[38;5;124m\"\u001b[39m\u001b[38;5;124mTemperaturas de la semana: \u001b[39m\u001b[38;5;124m\"\u001b[39m, temperaturas)\n\u001b[0;32m      2\u001b[0m \u001b[38;5;28mprint\u001b[39m(\u001b[38;5;124m\"\u001b[39m\u001b[38;5;124mPromedio Semanal\u001b[39m\u001b[38;5;124m\"\u001b[39m, promedio)\n\u001b[1;32m----> 3\u001b[0m \u001b[38;5;28mprint\u001b[39m(\u001b[38;5;124m\"\u001b[39m\u001b[38;5;124mDia mas caluroso: \u001b[39m\u001b[38;5;124m\"\u001b[39m, dias_semana[dia_mas_caluroso], \u001b[38;5;124mf\u001b[39m\u001b[38;5;124m\"\u001b[39m\u001b[38;5;124m(\u001b[39m\u001b[38;5;132;01m{\u001b[39;00mtemperaturas[dia_mas_caluroso]\u001b[38;5;132;01m}\u001b[39;00m\u001b[38;5;124m°C)\u001b[39m\u001b[38;5;124m\"\u001b[39m)\n\u001b[0;32m      4\u001b[0m \u001b[38;5;28mprint\u001b[39m(\u001b[38;5;124m\"\u001b[39m\u001b[38;5;124mDia mas frio: \u001b[39m\u001b[38;5;124m\"\u001b[39m, dias_seamana[dia_mas_frio], \u001b[38;5;124mf\u001b[39m\u001b[38;5;124m\"\u001b[39m\u001b[38;5;124m(\u001b[39m\u001b[38;5;132;01m{\u001b[39;00mtemperaturas[dia_mas_frio]\u001b[38;5;132;01m}\u001b[39;00m\u001b[38;5;124m °C)\u001b[39m\u001b[38;5;124m\"\u001b[39m)\n",
      "\u001b[1;31mTypeError\u001b[0m: list indices must be integers or slices, not builtin_function_or_method"
     ]
    }
   ],
   "source": [
    "print(\"Temperaturas de la semana: \", temperaturas)\n",
    "print(\"Promedio Semanal\", promedio)\n",
    "print(\"Dia mas caluroso: \", dias_semana[dia_mas_caluroso], f\"({temperaturas[dia_mas_caluroso]}°C)\")\n",
    "print(\"Dia mas frio: \", dias_seamana[dia_mas_frio], f\"({temperaturas[dia_mas_frio]} °C)\")"
   ]
  },
  {
   "cell_type": "code",
   "execution_count": null,
   "id": "3473257e",
   "metadata": {},
   "outputs": [],
   "source": []
  }
 ],
 "metadata": {
  "kernelspec": {
   "display_name": "base",
   "language": "python",
   "name": "python3"
  },
  "language_info": {
   "codemirror_mode": {
    "name": "ipython",
    "version": 3
   },
   "file_extension": ".py",
   "mimetype": "text/x-python",
   "name": "python",
   "nbconvert_exporter": "python",
   "pygments_lexer": "ipython3",
   "version": "3.12.7"
  }
 },
 "nbformat": 4,
 "nbformat_minor": 5
}
