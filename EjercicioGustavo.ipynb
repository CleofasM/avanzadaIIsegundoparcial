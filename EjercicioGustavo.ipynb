{
 "cells": [
  {
   "cell_type": "code",
   "execution_count": 4,
   "id": "ce62c42c",
   "metadata": {},
   "outputs": [],
   "source": [
    "import numpy as np\n",
    "import pandas as pd"
   ]
  },
  {
   "cell_type": "code",
   "execution_count": 6,
   "id": "e74404d0",
   "metadata": {},
   "outputs": [],
   "source": [
    "bus = np.array([10,10,15,10,15])\n",
    "taxi = np.array([30,30,25,30,20])\n",
    "\n",
    "dias = pd.Series(['Lunes','Martes','Miercoles','Jueves','Viernes'])"
   ]
  },
  {
   "cell_type": "code",
   "execution_count": 7,
   "id": "dd0f2e8e",
   "metadata": {},
   "outputs": [
    {
     "data": {
      "text/plain": [
       "Lunes        300\n",
       "Martes       300\n",
       "Miercoles    375\n",
       "Jueves       300\n",
       "Viernes      300\n",
       "dtype: int32"
      ]
     },
     "execution_count": 7,
     "metadata": {},
     "output_type": "execute_result"
    }
   ],
   "source": [
    "suma_total = bus * taxi\n",
    "suma_total\n",
    "\n",
    "serie = pd.Series(suma_total, index=dias)\n",
    "serie\n"
   ]
  },
  {
   "cell_type": "code",
   "execution_count": null,
   "id": "5ed09170",
   "metadata": {},
   "outputs": [
    {
     "data": {
      "text/plain": [
       "Promedio    <bound method Series.mean of Lunes        300\\...\n",
       "dtype: object"
      ]
     },
     "execution_count": 10,
     "metadata": {},
     "output_type": "execute_result"
    }
   ],
   "source": [
    "promedio_gasto = serie.mean\n"
   ]
  },
  {
   "cell_type": "code",
   "execution_count": null,
   "id": "ed5f62ef",
   "metadata": {},
   "outputs": [],
   "source": []
  }
 ],
 "metadata": {
  "kernelspec": {
   "display_name": "base",
   "language": "python",
   "name": "python3"
  },
  "language_info": {
   "codemirror_mode": {
    "name": "ipython",
    "version": 3
   },
   "file_extension": ".py",
   "mimetype": "text/x-python",
   "name": "python",
   "nbconvert_exporter": "python",
   "pygments_lexer": "ipython3",
   "version": "3.12.7"
  }
 },
 "nbformat": 4,
 "nbformat_minor": 5
}
